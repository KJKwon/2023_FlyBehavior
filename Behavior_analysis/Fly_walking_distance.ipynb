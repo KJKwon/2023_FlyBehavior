{
 "cells": [
  {
   "cell_type": "code",
   "execution_count": 1,
   "metadata": {},
   "outputs": [],
   "source": [
    "import os\n",
    "import sys"
   ]
  },
  {
   "cell_type": "code",
   "execution_count": 2,
   "metadata": {
    "scrolled": false
   },
   "outputs": [],
   "source": [
    "##Fly files\n",
    "#\tframe\tseconds\tx\ty\tfly-01\n",
    "#0\t1800\t60.0080006647831\t256.31812286377\t635.680877685547\t0 ...\n",
    "#1\t1808\t60.2747028899599\t235.73747253418\t604.778533935547\t0 ...\n",
    "\n",
    "\n",
    "os.chdir('/home/kujin/Documents/Project/Social_Drosophila.2022/Analysis')\n",
    "DGRP_list = sorted(next(os.walk('.'))[1])\n",
    "\n",
    "for DGRP in DGRP_list:\n",
    "    os.chdir('/home/kujin/Documents/Project/Social_Drosophila.2022/Analysis')\n",
    "    #Ignore .ipynb_checkpoints\n",
    "    if DGRP.startswith('DGRP') or DGRP.startswith('Canton S'):\n",
    "        os.chdir(DGRP)\n",
    "        Arena_List = sorted(os.listdir('.'))\n",
    "        Fly2Dist = dict()\n",
    "        for Arena in Arena_List:\n",
    "            path = Arena +'/distances'\n",
    "            if os.path.isdir(path):\n",
    "                os.chdir(path)\n",
    "                fly_list = sorted(os.listdir('.'))\n",
    "                for f_fly_nm in fly_list:\n",
    "                    f_fly = open(f_fly_nm,'r')\n",
    "                    f_fly.readline()\n",
    "                    x_axis = 0\n",
    "                    y_axis = 0\n",
    "                    totalDist = 0\n",
    "                    fly_nm = f_fly_nm.split('.csv')[0]\n",
    "                    if fly_nm not in Fly2Dist:\n",
    "                        Fly2Dist[fly_nm] = []\n",
    "                    for line in f_fly:\n",
    "                        tokens = line.strip().split(',')\n",
    "                        #Initial start point\n",
    "                        if x_axis == 0 and y_axis == 0:\n",
    "                            x_axis = float(tokens[3])\n",
    "                            y_axis = float(tokens[4])\n",
    "                        else:\n",
    "                            old_x_axis = x_axis\n",
    "                            old_y_axis = y_axis\n",
    "                            x_axis = float(tokens[3])\n",
    "                            y_axis = float(tokens[4])\n",
    "                            dist = ((x_axis - old_x_axis)**2 + (y_axis - old_y_axis)**2)**(1/2)\n",
    "                            totalDist += dist\n",
    "                    Fly2Dist[fly_nm].append(str(totalDist))\n",
    "                os.chdir('../..')\n",
    "        Fly_List = sorted(Fly2Dist.keys())\n",
    "        os.chdir('/home/kujin/Documents/Project/Social_Drosophila.2022/Fly_total_distance')\n",
    "        f_out = open(DGRP+'_fly_distance.txt','w')\n",
    "        f_out.write('%s\\tArena(1)\\tArena(2)\\tArena(3)\\tArena(4)\\tArena(5)\\n'%DGRP)\n",
    "        \n",
    "        for Fly in Fly_List:\n",
    "            Dist_List = Fly2Dist[Fly]\n",
    "            f_out.write('%s\\t%s\\n'%(Fly,'\\t'.join(Dist_List)))    \n",
    "        f_out.close()\n",
    "        "
   ]
  }
 ],
 "metadata": {
  "kernelspec": {
   "display_name": "Python 3 (ipykernel)",
   "language": "python",
   "name": "python3"
  },
  "language_info": {
   "codemirror_mode": {
    "name": "ipython",
    "version": 3
   },
   "file_extension": ".py",
   "mimetype": "text/x-python",
   "name": "python",
   "nbconvert_exporter": "python",
   "pygments_lexer": "ipython3",
   "version": "3.8.10"
  }
 },
 "nbformat": 4,
 "nbformat_minor": 4
}
